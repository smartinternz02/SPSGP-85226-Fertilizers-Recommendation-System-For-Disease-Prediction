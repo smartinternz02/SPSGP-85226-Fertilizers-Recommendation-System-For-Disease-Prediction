{
 "cells": [
  {
   "cell_type": "code",
   "execution_count": 1,
   "id": "dcc879f2",
   "metadata": {},
   "outputs": [
    {
     "data": {
      "text/plain": [
       "'C:\\\\Users\\\\rsenthil_1976'"
      ]
     },
     "execution_count": 1,
     "metadata": {},
     "output_type": "execute_result"
    }
   ],
   "source": [
    "pwd"
   ]
  },
  {
   "cell_type": "code",
   "execution_count": 2,
   "id": "fb30e4a8",
   "metadata": {},
   "outputs": [
    {
     "name": "stdout",
     "output_type": "stream",
     "text": [
      "E:\\IBM_MY_COURSE\\Project\\Dataset Plant Disease\\fruit-dataset\\fruit-dataset\n"
     ]
    }
   ],
   "source": [
    "cd E:/IBM_MY_COURSE/Project/Dataset Plant Disease/fruit-dataset/fruit-dataset"
   ]
  },
  {
   "cell_type": "markdown",
   "id": "0850f4f7",
   "metadata": {},
   "source": [
    "# Apply ImageDataGenerator functionality to Train and Test set"
   ]
  },
  {
   "cell_type": "markdown",
   "id": "3fdad7cc",
   "metadata": {},
   "source": [
    "# Preprocessing"
   ]
  },
  {
   "cell_type": "code",
   "execution_count": 3,
   "id": "6f8ef720",
   "metadata": {},
   "outputs": [],
   "source": [
    "from keras.preprocessing.image import ImageDataGenerator\n",
    "train_datagen = ImageDataGenerator(rescale=1./255,shear_range=0.2,zoom_range=0.2,horizontal_flip=True)\n",
    "test_datagen = ImageDataGenerator(rescale=1)"
   ]
  },
  {
   "cell_type": "code",
   "execution_count": 4,
   "id": "a48bcfd7",
   "metadata": {},
   "outputs": [
    {
     "data": {
      "text/plain": [
       "'E:\\\\IBM_MY_COURSE\\\\Project\\\\Dataset Plant Disease\\\\fruit-dataset\\\\fruit-dataset'"
      ]
     },
     "execution_count": 4,
     "metadata": {},
     "output_type": "execute_result"
    }
   ],
   "source": [
    "pwd"
   ]
  },
  {
   "cell_type": "code",
   "execution_count": 5,
   "id": "929f900d",
   "metadata": {},
   "outputs": [
    {
     "name": "stdout",
     "output_type": "stream",
     "text": [
      "Found 5384 images belonging to 6 classes.\n"
     ]
    }
   ],
   "source": [
    "x_train = train_datagen.flow_from_directory('E:/IBM_MY_COURSE/Project/Dataset Plant Disease/fruit-dataset/fruit-dataset/train',target_size=(128,128),batch_size=32,class_mode='categorical')\n"
   ]
  },
  {
   "cell_type": "code",
   "execution_count": 6,
   "id": "8cdd74c2",
   "metadata": {},
   "outputs": [
    {
     "name": "stdout",
     "output_type": "stream",
     "text": [
      "Found 1686 images belonging to 6 classes.\n"
     ]
    }
   ],
   "source": [
    "x_test=test_datagen.flow_from_directory('E:/IBM_MY_COURSE/Project/Dataset Plant Disease/fruit-dataset/fruit-dataset/test',target_size=(128,128),\n",
    "                                          batch_size=32,class_mode='categorical')"
   ]
  },
  {
   "cell_type": "markdown",
   "id": "2e2c175d",
   "metadata": {},
   "source": [
    "# Import the models"
   ]
  },
  {
   "cell_type": "code",
   "execution_count": 7,
   "id": "3c4043b4",
   "metadata": {},
   "outputs": [],
   "source": [
    "from tensorflow.keras.models import Sequential\n",
    "from tensorflow.keras.layers import Dense,Convolution2D,MaxPool2D,Flatten"
   ]
  },
  {
   "cell_type": "markdown",
   "id": "541ddea4",
   "metadata": {},
   "source": [
    "# Initializing the models"
   ]
  },
  {
   "cell_type": "code",
   "execution_count": 8,
   "id": "194155f1",
   "metadata": {},
   "outputs": [],
   "source": [
    "model=Sequential()"
   ]
  },
  {
   "cell_type": "markdown",
   "id": "02a1ffc6",
   "metadata": {},
   "source": [
    "# Add CNN Layers"
   ]
  },
  {
   "cell_type": "code",
   "execution_count": 9,
   "id": "0864d8af",
   "metadata": {},
   "outputs": [],
   "source": [
    "model.add(Convolution2D(32,(3,3),input_shape=(128,128,3),activation='relu'))"
   ]
  },
  {
   "cell_type": "code",
   "execution_count": 10,
   "id": "6d07a42f",
   "metadata": {},
   "outputs": [
    {
     "data": {
      "text/plain": [
       "{'Apple___Black_rot': 0,\n",
       " 'Apple___healthy': 1,\n",
       " 'Corn_(maize)___Northern_Leaf_Blight': 2,\n",
       " 'Corn_(maize)___healthy': 3,\n",
       " 'Peach___Bacterial_spot': 4,\n",
       " 'Peach___healthy': 5}"
      ]
     },
     "execution_count": 10,
     "metadata": {},
     "output_type": "execute_result"
    }
   ],
   "source": [
    "x_train.class_indices"
   ]
  },
  {
   "cell_type": "markdown",
   "id": "397903f8",
   "metadata": {},
   "source": [
    "# Add Pooling layer"
   ]
  },
  {
   "cell_type": "code",
   "execution_count": 11,
   "id": "d3ab0f1b",
   "metadata": {},
   "outputs": [],
   "source": [
    "model.add(MaxPool2D(pool_size=(2,2)))"
   ]
  },
  {
   "cell_type": "markdown",
   "id": "157a00a2",
   "metadata": {},
   "source": [
    "# Add Flatten layer"
   ]
  },
  {
   "cell_type": "code",
   "execution_count": 12,
   "id": "b9b64ad1",
   "metadata": {},
   "outputs": [],
   "source": [
    "model.add(Flatten())"
   ]
  },
  {
   "cell_type": "markdown",
   "id": "0beead3c",
   "metadata": {},
   "source": [
    "# Add Dense Layer"
   ]
  },
  {
   "cell_type": "code",
   "execution_count": 21,
   "id": "cdd0e005",
   "metadata": {},
   "outputs": [],
   "source": [
    "model.add(Dense(40, kernel_initializer='uniform',activation='relu'))\n",
    "model.add(Dense(20, kernel_initializer='random_uniform',activation='relu'))"
   ]
  },
  {
   "cell_type": "markdown",
   "id": "669a4337",
   "metadata": {},
   "source": [
    "# Add Output Layer"
   ]
  },
  {
   "cell_type": "code",
   "execution_count": 24,
   "id": "939046af",
   "metadata": {},
   "outputs": [],
   "source": [
    "model.add(Dense(6,activation='softmax', kernel_initializer='random_uniform'))"
   ]
  },
  {
   "cell_type": "markdown",
   "id": "aa54b817",
   "metadata": {},
   "source": [
    "# Compile the model"
   ]
  },
  {
   "cell_type": "code",
   "execution_count": 25,
   "id": "582efd88",
   "metadata": {},
   "outputs": [],
   "source": [
    "model.compile(loss='categorical_crossentropy',optimizer='adam',metrics=['accuracy'])"
   ]
  },
  {
   "cell_type": "code",
   "execution_count": 26,
   "id": "83affd3b",
   "metadata": {},
   "outputs": [
    {
     "data": {
      "text/plain": [
       "169"
      ]
     },
     "execution_count": 26,
     "metadata": {},
     "output_type": "execute_result"
    }
   ],
   "source": [
    "len(x_train)"
   ]
  },
  {
   "cell_type": "code",
   "execution_count": 27,
   "id": "c26ad32d",
   "metadata": {},
   "outputs": [
    {
     "data": {
      "text/plain": [
       "168.25"
      ]
     },
     "execution_count": 27,
     "metadata": {},
     "output_type": "execute_result"
    }
   ],
   "source": [
    "5384/32"
   ]
  },
  {
   "cell_type": "markdown",
   "id": "84f81316",
   "metadata": {},
   "source": [
    "# Fit the Model"
   ]
  },
  {
   "cell_type": "code",
   "execution_count": 28,
   "id": "5e03b854",
   "metadata": {},
   "outputs": [
    {
     "name": "stdout",
     "output_type": "stream",
     "text": [
      "WARNING:tensorflow:From <ipython-input-28-6de952bde51e>:1: Model.fit_generator (from tensorflow.python.keras.engine.training) is deprecated and will be removed in a future version.\n",
      "Instructions for updating:\n",
      "Please use Model.fit, which supports generators.\n",
      "Epoch 1/3\n",
      "168/168 [==============================] - 465s 3s/step - loss: 1.3844 - accuracy: 0.4589 - val_loss: 107.1929 - val_accuracy: 0.6971\n",
      "Epoch 2/3\n",
      "168/168 [==============================] - 414s 2s/step - loss: 0.6387 - accuracy: 0.7534 - val_loss: 62.9415 - val_accuracy: 0.8143\n",
      "Epoch 3/3\n",
      "168/168 [==============================] - 382s 2s/step - loss: 0.4579 - accuracy: 0.8283 - val_loss: 142.3666 - val_accuracy: 0.7356\n"
     ]
    },
    {
     "data": {
      "text/plain": [
       "<tensorflow.python.keras.callbacks.History at 0xe6265db040>"
      ]
     },
     "execution_count": 28,
     "metadata": {},
     "output_type": "execute_result"
    }
   ],
   "source": [
    "model.fit_generator(x_train,steps_per_epoch=168,validation_data=x_test,validation_steps=52,epochs=3)"
   ]
  },
  {
   "cell_type": "markdown",
   "id": "4fafe986",
   "metadata": {},
   "source": [
    "# Save the Model"
   ]
  },
  {
   "cell_type": "code",
   "execution_count": 29,
   "id": "4f1a0fd0",
   "metadata": {},
   "outputs": [],
   "source": [
    "model.save(\"fruit.h5\")"
   ]
  },
  {
   "cell_type": "code",
   "execution_count": 30,
   "id": "c6fd6021",
   "metadata": {},
   "outputs": [
    {
     "name": "stdout",
     "output_type": "stream",
     "text": [
      " Volume in drive E has no label.\n",
      " Volume Serial Number is 7A1E-CC1E\n",
      "\n",
      " Directory of E:\\IBM_MY_COURSE\\Project\\Dataset Plant Disease\\fruit-dataset\\fruit-dataset\n",
      "\n",
      "08/03/2022  05:23 PM    <DIR>          .\n",
      "08/03/2022  05:23 PM    <DIR>          ..\n",
      "08/03/2022  05:23 PM        61,060,920 fruit.h5\n",
      "08/01/2022  12:40 PM    <DIR>          test\n",
      "08/01/2022  12:43 PM    <DIR>          train\n",
      "               1 File(s)     61,060,920 bytes\n",
      "               4 Dir(s)  54,315,991,040 bytes free\n"
     ]
    }
   ],
   "source": [
    "ls\n"
   ]
  },
  {
   "cell_type": "markdown",
   "id": "f4079dfa",
   "metadata": {},
   "source": [
    "# Test the Model"
   ]
  },
  {
   "cell_type": "code",
   "execution_count": 32,
   "id": "7059f0cd",
   "metadata": {},
   "outputs": [],
   "source": [
    "from keras.preprocessing import image\n",
    "from tensorflow.keras.preprocessing.image import img_to_array\n",
    "from tensorflow.keras.models import load_model\n",
    "import numpy as np\n"
   ]
  },
  {
   "cell_type": "code",
   "execution_count": 33,
   "id": "53b9c26c",
   "metadata": {},
   "outputs": [],
   "source": [
    "model = load_model(\"fruit.h5\")"
   ]
  },
  {
   "cell_type": "markdown",
   "id": "61088099",
   "metadata": {},
   "source": [
    "# Test Apple_Healthy Class images"
   ]
  },
  {
   "cell_type": "code",
   "execution_count": 37,
   "id": "58b68881",
   "metadata": {},
   "outputs": [],
   "source": [
    "img = image.load_img('E:/IBM_MY_COURSE/Project/Dataset Plant Disease/fruit-dataset/fruit-dataset/test/Apple___healthy/00fca0da-2db3-481b-b98a-9b67bb7b105c___RS_HL 7708.JPG',target_size=(128,128))"
   ]
  },
  {
   "cell_type": "code",
   "execution_count": 39,
   "id": "bf697704",
   "metadata": {},
   "outputs": [],
   "source": [
    "x=image.img_to_array(img)\n",
    "x=np.expand_dims(x,axis=0)"
   ]
  },
  {
   "cell_type": "code",
   "execution_count": 40,
   "id": "f4443728",
   "metadata": {},
   "outputs": [
    {
     "name": "stdout",
     "output_type": "stream",
     "text": [
      "WARNING:tensorflow:From <ipython-input-40-fb3bdd339d5d>:1: Sequential.predict_classes (from tensorflow.python.keras.engine.sequential) is deprecated and will be removed after 2021-01-01.\n",
      "Instructions for updating:\n",
      "Please use instead:* `np.argmax(model.predict(x), axis=-1)`,   if your model does multi-class classification   (e.g. if it uses a `softmax` last-layer activation).* `(model.predict(x) > 0.5).astype(\"int32\")`,   if your model does binary classification   (e.g. if it uses a `sigmoid` last-layer activation).\n"
     ]
    }
   ],
   "source": [
    "pred = model.predict_classes(x)"
   ]
  },
  {
   "cell_type": "code",
   "execution_count": 41,
   "id": "aa7994af",
   "metadata": {},
   "outputs": [
    {
     "data": {
      "text/plain": [
       "array([1], dtype=int64)"
      ]
     },
     "execution_count": 41,
     "metadata": {},
     "output_type": "execute_result"
    }
   ],
   "source": [
    "pred"
   ]
  },
  {
   "cell_type": "code",
   "execution_count": 45,
   "id": "5f8f2cde",
   "metadata": {},
   "outputs": [],
   "source": [
    "index =['Apple___Black_rot','Apple___healthy','Corn_(maize)___Northern_Leaf_Blight','Corn_(maize)___healthy','Peach___Bacterial_spot','Peach___healthy']"
   ]
  },
  {
   "cell_type": "code",
   "execution_count": 46,
   "id": "9203b2e7",
   "metadata": {},
   "outputs": [
    {
     "name": "stdout",
     "output_type": "stream",
     "text": [
      "the given image belogs to= Apple___healthy\n"
     ]
    }
   ],
   "source": [
    "print('the given image belogs to=',index[pred[0]])"
   ]
  },
  {
   "cell_type": "markdown",
   "id": "e0fae6c1",
   "metadata": {},
   "source": [
    "# Test Apple Black Rot class images"
   ]
  },
  {
   "cell_type": "code",
   "execution_count": 54,
   "id": "57a4a266",
   "metadata": {},
   "outputs": [],
   "source": [
    "img = image.load_img('E:/IBM_MY_COURSE/Project/Dataset Plant Disease/fruit-dataset/fruit-dataset/test/Apple___Black_rot/0f3d45f4-e121-42cd-a5b6-be2f866a0574___JR_FrgE.S 2870.JPG',target_size=(128,128))"
   ]
  },
  {
   "cell_type": "code",
   "execution_count": 55,
   "id": "527c06e9",
   "metadata": {},
   "outputs": [
    {
     "name": "stdout",
     "output_type": "stream",
     "text": [
      "the given image belogs to= Apple___Black_rot\n"
     ]
    }
   ],
   "source": [
    "x=image.img_to_array(img)\n",
    "x=np.expand_dims(x,axis=0)\n",
    "pred = model.predict_classes(x)\n",
    "print('the given image belogs to=',index[pred[0]])"
   ]
  },
  {
   "cell_type": "markdown",
   "id": "7638deb1",
   "metadata": {},
   "source": [
    "# Test Corn Northern leaf Blight class images"
   ]
  },
  {
   "cell_type": "code",
   "execution_count": 56,
   "id": "44e49ce6",
   "metadata": {},
   "outputs": [],
   "source": [
    "img = image.load_img('E:/IBM_MY_COURSE/Project/Dataset Plant Disease/fruit-dataset/fruit-dataset/test/Corn_(maize)___Northern_Leaf_Blight/00a14441-7a62-4034-bc40-b196aeab2785___RS_NLB 3932.JPG',target_size=(128,128))"
   ]
  },
  {
   "cell_type": "code",
   "execution_count": 57,
   "id": "b2ad6f94",
   "metadata": {},
   "outputs": [
    {
     "name": "stdout",
     "output_type": "stream",
     "text": [
      "the given image belogs to= Corn_(maize)___Northern_Leaf_Blight\n"
     ]
    }
   ],
   "source": [
    "x=image.img_to_array(img)\n",
    "x=np.expand_dims(x,axis=0)\n",
    "pred = model.predict_classes(x)\n",
    "print('the given image belogs to=',index[pred[0]])"
   ]
  },
  {
   "cell_type": "markdown",
   "id": "b702120d",
   "metadata": {},
   "source": [
    "# Test Corn Healthy class images"
   ]
  },
  {
   "cell_type": "code",
   "execution_count": 58,
   "id": "1bbd2e0d",
   "metadata": {},
   "outputs": [],
   "source": [
    "img = image.load_img('E:/IBM_MY_COURSE/Project/Dataset Plant Disease/fruit-dataset/fruit-dataset/test/Corn_(maize)___healthy/0a68ef5a-027c-41ae-b227-159dae77d3dd___R.S_HL 7969 copy.jpg',target_size=(128,128))"
   ]
  },
  {
   "cell_type": "code",
   "execution_count": 59,
   "id": "1de96e21",
   "metadata": {},
   "outputs": [
    {
     "name": "stdout",
     "output_type": "stream",
     "text": [
      "the given image belogs to= Corn_(maize)___healthy\n"
     ]
    }
   ],
   "source": [
    "x=image.img_to_array(img)\n",
    "x=np.expand_dims(x,axis=0)\n",
    "pred = model.predict_classes(x)\n",
    "print('the given image belogs to=',index[pred[0]])"
   ]
  },
  {
   "cell_type": "markdown",
   "id": "6d9a70f3",
   "metadata": {},
   "source": [
    "# Test Peach Bacterial spot class images"
   ]
  },
  {
   "cell_type": "code",
   "execution_count": 60,
   "id": "7b1c3482",
   "metadata": {},
   "outputs": [],
   "source": [
    "img = image.load_img('E:/IBM_MY_COURSE/Project/Dataset Plant Disease/fruit-dataset/fruit-dataset/test/Peach___Bacterial_spot/00ddc106-692e-4c67-b2e8-569c924caf49___Rutg._Bact.S 1228.JPG',target_size=(128,128))"
   ]
  },
  {
   "cell_type": "code",
   "execution_count": 61,
   "id": "1ab010e0",
   "metadata": {},
   "outputs": [
    {
     "name": "stdout",
     "output_type": "stream",
     "text": [
      "the given image belogs to= Peach___Bacterial_spot\n"
     ]
    }
   ],
   "source": [
    "x=image.img_to_array(img)\n",
    "x=np.expand_dims(x,axis=0)\n",
    "pred = model.predict_classes(x)\n",
    "print('the given image belogs to=',index[pred[0]])"
   ]
  },
  {
   "cell_type": "markdown",
   "id": "9dc67628",
   "metadata": {},
   "source": [
    "# Test Peach Healthy class images"
   ]
  },
  {
   "cell_type": "code",
   "execution_count": 62,
   "id": "0461e6c9",
   "metadata": {},
   "outputs": [],
   "source": [
    "img = image.load_img('E:/IBM_MY_COURSE/Project/Dataset Plant Disease/fruit-dataset/fruit-dataset/test/Peach___healthy/1a07ce54-f4fd-41cf-b088-144f6bf71859___Rutg._HL 3543.JPG',target_size=(128,128))"
   ]
  },
  {
   "cell_type": "code",
   "execution_count": 63,
   "id": "d9ff6e18",
   "metadata": {},
   "outputs": [
    {
     "name": "stdout",
     "output_type": "stream",
     "text": [
      "the given image belogs to= Apple___healthy\n"
     ]
    }
   ],
   "source": [
    "x=image.img_to_array(img)\n",
    "x=np.expand_dims(x,axis=0)\n",
    "pred = model.predict_classes(x)\n",
    "print('the given image belogs to=',index[pred[0]])"
   ]
  }
 ],
 "metadata": {
  "kernelspec": {
   "display_name": "Python 3",
   "language": "python",
   "name": "python3"
  },
  "language_info": {
   "codemirror_mode": {
    "name": "ipython",
    "version": 3
   },
   "file_extension": ".py",
   "mimetype": "text/x-python",
   "name": "python",
   "nbconvert_exporter": "python",
   "pygments_lexer": "ipython3",
   "version": "3.8.8"
  }
 },
 "nbformat": 4,
 "nbformat_minor": 5
}
