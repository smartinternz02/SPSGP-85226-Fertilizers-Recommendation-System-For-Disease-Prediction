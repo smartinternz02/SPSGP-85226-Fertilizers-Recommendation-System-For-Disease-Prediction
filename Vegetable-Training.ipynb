{
 "cells": [
  {
   "cell_type": "code",
   "execution_count": 2,
   "id": "dcc879f2",
   "metadata": {},
   "outputs": [
    {
     "data": {
      "text/plain": [
       "'C:\\\\Users\\\\rsenthil_1976'"
      ]
     },
     "execution_count": 2,
     "metadata": {},
     "output_type": "execute_result"
    }
   ],
   "source": [
    "pwd"
   ]
  },
  {
   "cell_type": "code",
   "execution_count": 3,
   "id": "fb30e4a8",
   "metadata": {},
   "outputs": [
    {
     "name": "stdout",
     "output_type": "stream",
     "text": [
      "E:\\IBM_MY_COURSE\\Project\\Dataset Plant Disease\\veg-dataset\\veg-dataset\n"
     ]
    }
   ],
   "source": [
    "cd E:/IBM_MY_COURSE/Project/Dataset Plant Disease/veg-dataset/veg-dataset"
   ]
  },
  {
   "cell_type": "markdown",
   "id": "7162c80c",
   "metadata": {},
   "source": [
    "# Apply ImageDataGenerator functionality to Train and Test set"
   ]
  },
  {
   "cell_type": "markdown",
   "id": "60f6f9a9",
   "metadata": {},
   "source": [
    "# Preprocessing"
   ]
  },
  {
   "cell_type": "code",
   "execution_count": 5,
   "id": "6f8ef720",
   "metadata": {},
   "outputs": [],
   "source": [
    "from keras.preprocessing.image import ImageDataGenerator\n",
    "train_datagen = ImageDataGenerator(rescale=1./255,shear_range=0.2,zoom_range=0.2,horizontal_flip=True)\n",
    "test_datagen = ImageDataGenerator(rescale=1)"
   ]
  },
  {
   "cell_type": "code",
   "execution_count": 6,
   "id": "a48bcfd7",
   "metadata": {},
   "outputs": [
    {
     "data": {
      "text/plain": [
       "'E:\\\\IBM_MY_COURSE\\\\Project\\\\Dataset Plant Disease\\\\veg-dataset\\\\veg-dataset'"
      ]
     },
     "execution_count": 6,
     "metadata": {},
     "output_type": "execute_result"
    }
   ],
   "source": [
    "pwd"
   ]
  },
  {
   "cell_type": "code",
   "execution_count": 9,
   "id": "929f900d",
   "metadata": {},
   "outputs": [
    {
     "name": "stdout",
     "output_type": "stream",
     "text": [
      "Found 11386 images belonging to 9 classes.\n"
     ]
    }
   ],
   "source": [
    "x_train = train_datagen.flow_from_directory('E:/IBM_MY_COURSE/Project/Dataset Plant Disease/veg-dataset/veg-dataset/train_set',target_size=(128,128),batch_size=16,class_mode='categorical')\n"
   ]
  },
  {
   "cell_type": "code",
   "execution_count": 10,
   "id": "8cdd74c2",
   "metadata": {},
   "outputs": [
    {
     "name": "stdout",
     "output_type": "stream",
     "text": [
      "Found 3416 images belonging to 9 classes.\n"
     ]
    }
   ],
   "source": [
    "x_test=test_datagen.flow_from_directory('E:/IBM_MY_COURSE/Project/Dataset Plant Disease/veg-dataset/veg-dataset/test_set',target_size=(128,128),\n",
    "                                          batch_size=16,class_mode='categorical')"
   ]
  },
  {
   "cell_type": "markdown",
   "id": "aacf0249",
   "metadata": {},
   "source": [
    "# Import the models"
   ]
  },
  {
   "cell_type": "code",
   "execution_count": 11,
   "id": "3c4043b4",
   "metadata": {},
   "outputs": [],
   "source": [
    "from tensorflow.keras.models import Sequential\n",
    "from tensorflow.keras.layers import Dense,Convolution2D,MaxPool2D,Flatten"
   ]
  },
  {
   "cell_type": "markdown",
   "id": "764a5459",
   "metadata": {},
   "source": [
    "# Initializing the models"
   ]
  },
  {
   "cell_type": "code",
   "execution_count": 12,
   "id": "194155f1",
   "metadata": {},
   "outputs": [],
   "source": [
    "model=Sequential()"
   ]
  },
  {
   "cell_type": "markdown",
   "id": "34b78176",
   "metadata": {},
   "source": [
    "# Add CNN Layers"
   ]
  },
  {
   "cell_type": "code",
   "execution_count": 13,
   "id": "0864d8af",
   "metadata": {},
   "outputs": [],
   "source": [
    "model.add(Convolution2D(32,(3,3),input_shape=(128,128,3),activation='relu'))"
   ]
  },
  {
   "cell_type": "code",
   "execution_count": 14,
   "id": "6d07a42f",
   "metadata": {},
   "outputs": [
    {
     "data": {
      "text/plain": [
       "{'Pepper,_bell___Bacterial_spot': 0,\n",
       " 'Pepper,_bell___healthy': 1,\n",
       " 'Potato___Early_blight': 2,\n",
       " 'Potato___Late_blight': 3,\n",
       " 'Potato___healthy': 4,\n",
       " 'Tomato___Bacterial_spot': 5,\n",
       " 'Tomato___Late_blight': 6,\n",
       " 'Tomato___Leaf_Mold': 7,\n",
       " 'Tomato___Septoria_leaf_spot': 8}"
      ]
     },
     "execution_count": 14,
     "metadata": {},
     "output_type": "execute_result"
    }
   ],
   "source": [
    "x_train.class_indices"
   ]
  },
  {
   "cell_type": "markdown",
   "id": "07af6d7e",
   "metadata": {},
   "source": [
    "# Add Pooling layer"
   ]
  },
  {
   "cell_type": "code",
   "execution_count": 15,
   "id": "d3ab0f1b",
   "metadata": {},
   "outputs": [],
   "source": [
    "model.add(MaxPool2D(pool_size=(2,2)))"
   ]
  },
  {
   "cell_type": "markdown",
   "id": "b4517580",
   "metadata": {},
   "source": [
    "# Add Flatten layer"
   ]
  },
  {
   "cell_type": "code",
   "execution_count": 16,
   "id": "b9b64ad1",
   "metadata": {},
   "outputs": [],
   "source": [
    "model.add(Flatten())"
   ]
  },
  {
   "cell_type": "markdown",
   "id": "d850831d",
   "metadata": {},
   "source": [
    "# Add Dense Layer"
   ]
  },
  {
   "cell_type": "code",
   "execution_count": 17,
   "id": "cdd0e005",
   "metadata": {},
   "outputs": [],
   "source": [
    "model.add(Dense(300, kernel_initializer='uniform',activation='relu'))\n",
    "model.add(Dense(150, kernel_initializer='uniform',activation='relu'))\n",
    "model.add(Dense(75, kernel_initializer='uniform',activation='relu'))"
   ]
  },
  {
   "cell_type": "markdown",
   "id": "3136a773",
   "metadata": {},
   "source": [
    "# Add Output Layer"
   ]
  },
  {
   "cell_type": "code",
   "execution_count": 18,
   "id": "939046af",
   "metadata": {},
   "outputs": [],
   "source": [
    "model.add(Dense(9,activation='softmax', kernel_initializer='uniform'))"
   ]
  },
  {
   "cell_type": "markdown",
   "id": "90680a56",
   "metadata": {},
   "source": [
    "# Compile the model"
   ]
  },
  {
   "cell_type": "code",
   "execution_count": 19,
   "id": "582efd88",
   "metadata": {},
   "outputs": [],
   "source": [
    "model.compile(loss='categorical_crossentropy',optimizer='adam',metrics=['accuracy'])"
   ]
  },
  {
   "cell_type": "code",
   "execution_count": 20,
   "id": "83affd3b",
   "metadata": {},
   "outputs": [
    {
     "data": {
      "text/plain": [
       "712"
      ]
     },
     "execution_count": 20,
     "metadata": {},
     "output_type": "execute_result"
    }
   ],
   "source": [
    "len(x_train)"
   ]
  },
  {
   "cell_type": "code",
   "execution_count": 21,
   "id": "c26ad32d",
   "metadata": {},
   "outputs": [
    {
     "data": {
      "text/plain": [
       "711.625"
      ]
     },
     "execution_count": 21,
     "metadata": {},
     "output_type": "execute_result"
    }
   ],
   "source": [
    "11386/16"
   ]
  },
  {
   "cell_type": "markdown",
   "id": "df4ba1f9",
   "metadata": {},
   "source": [
    "# Fit the Model"
   ]
  },
  {
   "cell_type": "code",
   "execution_count": 27,
   "id": "5e03b854",
   "metadata": {},
   "outputs": [
    {
     "name": "stdout",
     "output_type": "stream",
     "text": [
      "WARNING:tensorflow:From <ipython-input-27-bc2f49aa13c3>:1: Model.fit_generator (from tensorflow.python.keras.engine.training) is deprecated and will be removed in a future version.\n",
      "Instructions for updating:\n",
      "Please use Model.fit, which supports generators.\n",
      "Epoch 1/20\n",
      "89/89 [==============================] - 223s 3s/step - loss: 2.0686 - accuracy: 0.2193 - val_loss: 199.9080 - val_accuracy: 0.3472\n",
      "Epoch 2/20\n",
      "89/89 [==============================] - 188s 2s/step - loss: 1.6982 - accuracy: 0.3792 - val_loss: 240.8022 - val_accuracy: 0.2708\n",
      "Epoch 3/20\n",
      "89/89 [==============================] - 197s 2s/step - loss: 1.4385 - accuracy: 0.4522 - val_loss: 169.9319 - val_accuracy: 0.3819\n",
      "Epoch 4/20\n",
      "89/89 [==============================] - 192s 2s/step - loss: 1.2958 - accuracy: 0.5323 - val_loss: 278.2356 - val_accuracy: 0.4097\n",
      "Epoch 5/20\n",
      "89/89 [==============================] - 200s 2s/step - loss: 1.1856 - accuracy: 0.5688 - val_loss: 267.2704 - val_accuracy: 0.4213\n",
      "Epoch 6/20\n",
      "89/89 [==============================] - 231s 3s/step - loss: 1.0660 - accuracy: 0.6128 - val_loss: 368.8070 - val_accuracy: 0.3148\n",
      "Epoch 7/20\n",
      "89/89 [==============================] - 219s 2s/step - loss: 0.9765 - accuracy: 0.6403 - val_loss: 399.0838 - val_accuracy: 0.3588\n",
      "Epoch 8/20\n",
      "89/89 [==============================] - 222s 2s/step - loss: 0.8387 - accuracy: 0.6924 - val_loss: 815.6894 - val_accuracy: 0.2847\n",
      "Epoch 9/20\n",
      "89/89 [==============================] - 217s 2s/step - loss: 0.8022 - accuracy: 0.7170 - val_loss: 700.2774 - val_accuracy: 0.3403\n",
      "Epoch 10/20\n",
      "89/89 [==============================] - 225s 3s/step - loss: 0.7710 - accuracy: 0.7247 - val_loss: 725.8087 - val_accuracy: 0.3495\n",
      "Epoch 11/20\n",
      "89/89 [==============================] - 241s 3s/step - loss: 0.7138 - accuracy: 0.7285 - val_loss: 603.4146 - val_accuracy: 0.3843\n",
      "Epoch 12/20\n",
      "89/89 [==============================] - 239s 3s/step - loss: 0.6851 - accuracy: 0.7514 - val_loss: 1036.7712 - val_accuracy: 0.2731\n",
      "Epoch 13/20\n",
      "89/89 [==============================] - 236s 3s/step - loss: 0.6665 - accuracy: 0.7619 - val_loss: 734.2678 - val_accuracy: 0.4005\n",
      "Epoch 14/20\n",
      "89/89 [==============================] - 230s 3s/step - loss: 0.6092 - accuracy: 0.7900 - val_loss: 1000.9613 - val_accuracy: 0.3264\n",
      "Epoch 15/20\n",
      "89/89 [==============================] - 236s 3s/step - loss: 0.5802 - accuracy: 0.7893 - val_loss: 831.4978 - val_accuracy: 0.3565\n",
      "Epoch 16/20\n",
      "89/89 [==============================] - 241s 3s/step - loss: 0.5616 - accuracy: 0.8041 - val_loss: 979.5544 - val_accuracy: 0.4005\n",
      "Epoch 17/20\n",
      "89/89 [==============================] - 241s 3s/step - loss: 0.5603 - accuracy: 0.7985 - val_loss: 855.4716 - val_accuracy: 0.3542\n",
      "Epoch 18/20\n",
      "89/89 [==============================] - 246s 3s/step - loss: 0.5577 - accuracy: 0.8062 - val_loss: 888.6317 - val_accuracy: 0.3449\n",
      "Epoch 19/20\n",
      "89/89 [==============================] - 239s 3s/step - loss: 0.5288 - accuracy: 0.8132 - val_loss: 1036.6775 - val_accuracy: 0.3704\n",
      "Epoch 20/20\n",
      "89/89 [==============================] - 243s 3s/step - loss: 0.5536 - accuracy: 0.8160 - val_loss: 963.6280 - val_accuracy: 0.3565\n"
     ]
    },
    {
     "data": {
      "text/plain": [
       "<tensorflow.python.keras.callbacks.History at 0x861fa4c8e0>"
      ]
     },
     "execution_count": 27,
     "metadata": {},
     "output_type": "execute_result"
    }
   ],
   "source": [
    "model.fit_generator(x_train,steps_per_epoch=89,validation_data=x_test,validation_steps=27,epochs=20)"
   ]
  },
  {
   "cell_type": "markdown",
   "id": "62ae729d",
   "metadata": {},
   "source": [
    "# Save the Model"
   ]
  },
  {
   "cell_type": "code",
   "execution_count": 29,
   "id": "4f1a0fd0",
   "metadata": {},
   "outputs": [],
   "source": [
    "model.save(\"vegetable.h5\")"
   ]
  },
  {
   "cell_type": "code",
   "execution_count": 30,
   "id": "44df5fdf",
   "metadata": {},
   "outputs": [
    {
     "name": "stdout",
     "output_type": "stream",
     "text": [
      " Volume in drive E has no label.\n",
      " Volume Serial Number is 7A1E-CC1E\n",
      "\n",
      " Directory of E:\\IBM_MY_COURSE\\Project\\Dataset Plant Disease\\veg-dataset\\veg-dataset\n",
      "\n",
      "08/04/2022  03:02 PM    <DIR>          .\n",
      "08/04/2022  03:02 PM    <DIR>          ..\n",
      "08/01/2022  12:44 PM    <DIR>          test_set\n",
      "08/01/2022  12:48 PM    <DIR>          train_set\n",
      "08/04/2022  03:03 PM       457,976,104 vegetable.h5\n",
      "               1 File(s)    457,976,104 bytes\n",
      "               4 Dir(s)  53,796,323,328 bytes free\n"
     ]
    }
   ],
   "source": [
    "ls\n"
   ]
  },
  {
   "cell_type": "code",
   "execution_count": 31,
   "id": "9528c90e",
   "metadata": {},
   "outputs": [
    {
     "name": "stdout",
     "output_type": "stream",
     "text": [
      "Model: \"sequential\"\n",
      "_________________________________________________________________\n",
      "Layer (type)                 Output Shape              Param #   \n",
      "=================================================================\n",
      "conv2d (Conv2D)              (None, 126, 126, 32)      896       \n",
      "_________________________________________________________________\n",
      "max_pooling2d (MaxPooling2D) (None, 63, 63, 32)        0         \n",
      "_________________________________________________________________\n",
      "flatten (Flatten)            (None, 127008)            0         \n",
      "_________________________________________________________________\n",
      "dense (Dense)                (None, 300)               38102700  \n",
      "_________________________________________________________________\n",
      "dense_1 (Dense)              (None, 150)               45150     \n",
      "_________________________________________________________________\n",
      "dense_2 (Dense)              (None, 75)                11325     \n",
      "_________________________________________________________________\n",
      "dense_3 (Dense)              (None, 9)                 684       \n",
      "=================================================================\n",
      "Total params: 38,160,755\n",
      "Trainable params: 38,160,755\n",
      "Non-trainable params: 0\n",
      "_________________________________________________________________\n"
     ]
    }
   ],
   "source": [
    "model.summary()"
   ]
  },
  {
   "cell_type": "markdown",
   "id": "7c596be3",
   "metadata": {},
   "source": [
    "# Test the Model"
   ]
  },
  {
   "cell_type": "code",
   "execution_count": 32,
   "id": "4d4c6c20",
   "metadata": {},
   "outputs": [],
   "source": [
    "from keras.preprocessing import image\n",
    "from tensorflow.keras.preprocessing.image import img_to_array\n",
    "from tensorflow.keras.models import load_model\n",
    "import numpy as np"
   ]
  },
  {
   "cell_type": "code",
   "execution_count": 33,
   "id": "9e502298",
   "metadata": {},
   "outputs": [],
   "source": [
    "model = load_model(\"vegetable.h5\")"
   ]
  },
  {
   "cell_type": "code",
   "execution_count": 38,
   "id": "e12c0196",
   "metadata": {},
   "outputs": [],
   "source": [
    "index=['Pepper,_bell___Bacterial_spot','Pepper,_bell___healthy','Potato___Early_blight','Potato___Late_blight','Potato___healthy','Tomato___Bacterial_spot','Tomato___Late_blight','Tomato___Leaf_Mold','Tomato___Septoria_leaf_spot']"
   ]
  },
  {
   "cell_type": "markdown",
   "id": "a07a1c0a",
   "metadata": {},
   "source": [
    "# Test  Pepper Bell Bacterial Spot    Class Images"
   ]
  },
  {
   "cell_type": "code",
   "execution_count": 36,
   "id": "e818fd66",
   "metadata": {},
   "outputs": [],
   "source": [
    "img = image.load_img('E:/IBM_MY_COURSE/Project/Dataset Plant Disease/veg-dataset/veg-dataset/test_set/Pepper,_bell___Bacterial_spot/ad921dec-e88f-41d8-9455-0880c69063fc___NREC_B.Spot 9216.JPG',target_size=(128,128))"
   ]
  },
  {
   "cell_type": "code",
   "execution_count": 39,
   "id": "84210f4b",
   "metadata": {},
   "outputs": [
    {
     "name": "stdout",
     "output_type": "stream",
     "text": [
      "the given image belogs to= Pepper,_bell___Bacterial_spot\n"
     ]
    }
   ],
   "source": [
    "x=image.img_to_array(img)\n",
    "x=np.expand_dims(x,axis=0)\n",
    "pred = model.predict_classes(x)\n",
    "print('the given image belogs to=',index[pred[0]])"
   ]
  },
  {
   "cell_type": "markdown",
   "id": "362d2772",
   "metadata": {},
   "source": [
    "# Test  Pepper,_bell___healthy    Class Images"
   ]
  },
  {
   "cell_type": "code",
   "execution_count": 40,
   "id": "7b557a10",
   "metadata": {},
   "outputs": [],
   "source": [
    "img = image.load_img('E:/IBM_MY_COURSE/Project/Dataset Plant Disease/veg-dataset/veg-dataset/test_set/Pepper,_bell___healthy/b45d62a2-3de1-411b-8f88-ab52195b6dda___JR_HL 7639.JPG',target_size=(128,128))"
   ]
  },
  {
   "cell_type": "code",
   "execution_count": 41,
   "id": "b272b833",
   "metadata": {},
   "outputs": [
    {
     "name": "stdout",
     "output_type": "stream",
     "text": [
      "the given image belogs to= Pepper,_bell___healthy\n"
     ]
    }
   ],
   "source": [
    "x=image.img_to_array(img)\n",
    "x=np.expand_dims(x,axis=0)\n",
    "pred = model.predict_classes(x)\n",
    "print('the given image belogs to=',index[pred[0]])"
   ]
  },
  {
   "cell_type": "markdown",
   "id": "ba27d47d",
   "metadata": {},
   "source": [
    "# Test  Potato___Early_blight    Class Images"
   ]
  },
  {
   "cell_type": "code",
   "execution_count": 106,
   "id": "a436a150",
   "metadata": {},
   "outputs": [],
   "source": [
    "img = image.load_img('E:/IBM_MY_COURSE/Project/Dataset Plant Disease/veg-dataset/veg-dataset/test_set/Potato___Early_blight/b6220993-c51f-48fa-bee9-fb5cb89cc0c4___RS_Early.B 7467.JPG',target_size=(128,128))"
   ]
  },
  {
   "cell_type": "code",
   "execution_count": 107,
   "id": "b5c2c2c1",
   "metadata": {},
   "outputs": [
    {
     "name": "stdout",
     "output_type": "stream",
     "text": [
      "the given image belogs to= Potato___Early_blight\n"
     ]
    }
   ],
   "source": [
    "x=image.img_to_array(img)\n",
    "x=np.expand_dims(x,axis=0)\n",
    "pred = model.predict_classes(x)\n",
    "print('the given image belogs to=',index[pred[0]])"
   ]
  },
  {
   "cell_type": "markdown",
   "id": "0570cd26",
   "metadata": {},
   "source": [
    "# Test  Potato___Late_blight    Class Images"
   ]
  },
  {
   "cell_type": "code",
   "execution_count": 108,
   "id": "db4e9fe0",
   "metadata": {},
   "outputs": [],
   "source": [
    "img = image.load_img('E:/IBM_MY_COURSE/Project/Dataset Plant Disease/veg-dataset/veg-dataset/test_set/Potato___Late_blight/d20fef22-7016-4115-9930-a66b32c718c6___RS_LB 4417.JPG',target_size=(128,128))"
   ]
  },
  {
   "cell_type": "code",
   "execution_count": 109,
   "id": "b2af70db",
   "metadata": {},
   "outputs": [
    {
     "name": "stdout",
     "output_type": "stream",
     "text": [
      "the given image belogs to= Pepper,_bell___Bacterial_spot\n"
     ]
    }
   ],
   "source": [
    "x=image.img_to_array(img)\n",
    "x=np.expand_dims(x,axis=0)\n",
    "pred = model.predict_classes(x)\n",
    "print('the given image belogs to=',index[pred[0]])"
   ]
  },
  {
   "cell_type": "markdown",
   "id": "65529e03",
   "metadata": {},
   "source": [
    "# Test Potato___healthy Class Images"
   ]
  },
  {
   "cell_type": "code",
   "execution_count": 110,
   "id": "ac7f3b9f",
   "metadata": {},
   "outputs": [],
   "source": [
    "img = image.load_img('E:/IBM_MY_COURSE/Project/Dataset Plant Disease/veg-dataset/veg-dataset/test_set/Potato___healthy/ff700844-68ad-4e99-8427-58a39c07f817___RS_HL 1860.JPG',target_size=(128,128))"
   ]
  },
  {
   "cell_type": "code",
   "execution_count": 111,
   "id": "05bf3ed6",
   "metadata": {},
   "outputs": [
    {
     "name": "stdout",
     "output_type": "stream",
     "text": [
      "the given image belogs to= Pepper,_bell___healthy\n"
     ]
    }
   ],
   "source": [
    "x=image.img_to_array(img)\n",
    "x=np.expand_dims(x,axis=0)\n",
    "pred = model.predict_classes(x)\n",
    "print('the given image belogs to=',index[pred[0]])"
   ]
  },
  {
   "cell_type": "markdown",
   "id": "f30226f2",
   "metadata": {},
   "source": [
    "# Test   Tomato___Bacterial_spot   Class Images"
   ]
  },
  {
   "cell_type": "code",
   "execution_count": 152,
   "id": "8046bb47",
   "metadata": {},
   "outputs": [],
   "source": [
    "img = image.load_img('E:/IBM_MY_COURSE/Project/Dataset Plant Disease/veg-dataset/veg-dataset/test_set/Tomato___Bacterial_spot/b433dcf3-c57d-4f5e-9116-5aaeecbaef01___GCREC_Bact.Sp 3715.JPG',target_size=(128,128))"
   ]
  },
  {
   "cell_type": "code",
   "execution_count": 153,
   "id": "00fbbe1b",
   "metadata": {},
   "outputs": [
    {
     "name": "stdout",
     "output_type": "stream",
     "text": [
      "the given image belogs to= Tomato___Septoria_leaf_spot\n"
     ]
    }
   ],
   "source": [
    "x=image.img_to_array(img)\n",
    "x=np.expand_dims(x,axis=0)\n",
    "pred = model.predict_classes(x)\n",
    "print('the given image belogs to=',index[pred[0]])"
   ]
  },
  {
   "cell_type": "markdown",
   "id": "8f3f26f4",
   "metadata": {},
   "source": [
    "# Test   Tomato___Late_blight   Class Images"
   ]
  },
  {
   "cell_type": "code",
   "execution_count": 144,
   "id": "08f27840",
   "metadata": {},
   "outputs": [],
   "source": [
    "img = image.load_img('E:/IBM_MY_COURSE/Project/Dataset Plant Disease/veg-dataset/veg-dataset/test_set/Tomato___Late_blight/b19055d9-6a5d-4b73-90a5-3b3685ac344a___GHLB2 Leaf 8729.JPG',target_size=(128,128))"
   ]
  },
  {
   "cell_type": "code",
   "execution_count": 145,
   "id": "bb7f8a02",
   "metadata": {},
   "outputs": [
    {
     "name": "stdout",
     "output_type": "stream",
     "text": [
      "the given image belogs to= Tomato___Late_blight\n"
     ]
    }
   ],
   "source": [
    "x=image.img_to_array(img)\n",
    "x=np.expand_dims(x,axis=0)\n",
    "pred = model.predict_classes(x)\n",
    "print('the given image belogs to=',index[pred[0]])"
   ]
  },
  {
   "cell_type": "markdown",
   "id": "182c4ce1",
   "metadata": {},
   "source": [
    "# Test   Tomato___Leaf_Mold   Class Images"
   ]
  },
  {
   "cell_type": "code",
   "execution_count": 142,
   "id": "7691e31d",
   "metadata": {},
   "outputs": [],
   "source": [
    "img = image.load_img('E:/IBM_MY_COURSE/Project/Dataset Plant Disease/veg-dataset/veg-dataset/test_set/Tomato___Leaf_Mold/d8f27502-b864-4da3-9dd5-b7eccf2e8cbc___Crnl_L.Mold 6708.JPG',target_size=(128,128))"
   ]
  },
  {
   "cell_type": "code",
   "execution_count": 143,
   "id": "85326ce0",
   "metadata": {},
   "outputs": [
    {
     "name": "stdout",
     "output_type": "stream",
     "text": [
      "the given image belogs to= Tomato___Septoria_leaf_spot\n"
     ]
    }
   ],
   "source": [
    "x=image.img_to_array(img)\n",
    "x=np.expand_dims(x,axis=0)\n",
    "pred = model.predict_classes(x)\n",
    "print('the given image belogs to=',index[pred[0]])"
   ]
  },
  {
   "cell_type": "markdown",
   "id": "bf7d24dc",
   "metadata": {},
   "source": [
    "# Test  Tomato___Septoria_leaf_spot  Class Images"
   ]
  },
  {
   "cell_type": "code",
   "execution_count": 120,
   "id": "8683220a",
   "metadata": {},
   "outputs": [],
   "source": [
    "img = image.load_img('E:/IBM_MY_COURSE/Project/Dataset Plant Disease/veg-dataset/veg-dataset/test_set/Tomato___Septoria_leaf_spot/c3233f4f-a6f5-4bfb-a6bf-bd5e5d045f7a___JR_Sept.L.S 2728.JPG',target_size=(128,128))"
   ]
  },
  {
   "cell_type": "code",
   "execution_count": 121,
   "id": "04864f6a",
   "metadata": {},
   "outputs": [
    {
     "name": "stdout",
     "output_type": "stream",
     "text": [
      "the given image belogs to= Tomato___Septoria_leaf_spot\n"
     ]
    }
   ],
   "source": [
    "x=image.img_to_array(img)\n",
    "x=np.expand_dims(x,axis=0)\n",
    "pred = model.predict_classes(x)\n",
    "print('the given image belogs to=',index[pred[0]])"
   ]
  }
 ],
 "metadata": {
  "kernelspec": {
   "display_name": "Python 3",
   "language": "python",
   "name": "python3"
  },
  "language_info": {
   "codemirror_mode": {
    "name": "ipython",
    "version": 3
   },
   "file_extension": ".py",
   "mimetype": "text/x-python",
   "name": "python",
   "nbconvert_exporter": "python",
   "pygments_lexer": "ipython3",
   "version": "3.8.8"
  }
 },
 "nbformat": 4,
 "nbformat_minor": 5
}
